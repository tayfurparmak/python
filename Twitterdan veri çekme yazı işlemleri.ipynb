{
 "cells": [
  {
   "cell_type": "code",
   "execution_count": 1,
   "metadata": {},
   "outputs": [],
   "source": [
    "from bs4 import BeautifulSoup\n",
    "import requests\n",
    "from selenium import webdriver\n",
    "from selenium.webdriver.common.keys import Keys\n",
    "import time\n",
    "import csv\n",
    "import pandas as pd"
   ]
  },
  {
   "cell_type": "code",
   "execution_count": 21,
   "metadata": {},
   "outputs": [],
   "source": [
    "\r\n",
    "def veri_cek():\r\n",
    "    \r\n",
    "    sayfa = int(input(\"scroll sayısını girin = \"))\r\n",
    "\r\n",
    "    driver_path = \"D:\\PROGRAM SETUP\\chromedriver.exe\"\r\n",
    "    browser = webdriver.Chrome(driver_path)\r\n",
    "\r\n",
    "    browser.get(\"https://www.google.com.tr/\")\r\n",
    "    yazı_girişi = browser.find_element_by_css_selector(\".gLFyf.gsfi\")\r\n",
    "    yazı_girişi.send_keys(\"twitter deep learning türkiye\")\r\n",
    "    time.sleep(2)\r\n",
    "    yazı_girişi.send_keys(Keys.ENTER)\r\n",
    "\r\n",
    "    tıkla = browser.find_element_by_css_selector(\".zTpPx.V7Sr0.p5AXld\")\r\n",
    "    tıkla.click()\r\n",
    "    \r\n",
    "    #\r\n",
    "    file = open(\"tweetler.csv\",\"w\",encoding=\"utf-8\")\r\n",
    "    writer = csv.writer(file)\r\n",
    "    writer.writerow([\"tweetler\"])\r\n",
    "                         \r\n",
    "    \r\n",
    "    #\r\n",
    "    a = 0\r\n",
    "    while a < sayfa:\r\n",
    "    #\r\n",
    "        lastHeight = browser.execute_script(\"return document.body.scrollHeight\")\r\n",
    "        i=0\r\n",
    "        while i<1:\r\n",
    "            browser.execute_script(\"window.scrollTo(0, document.body.scrollHeight);\")\r\n",
    "            time.sleep(3)\r\n",
    "            newHeight = browser.execute_script(\"return document.body.scrollHeight\")\r\n",
    "\r\n",
    "            if newHeight == lastHeight:\r\n",
    "                break\r\n",
    "            else:\r\n",
    "                lastHeight = newHeight\r\n",
    "\r\n",
    "            i = i+1\r\n",
    "    #\r\n",
    "\r\n",
    "\r\n",
    "\r\n",
    "        sayfa_kaynağı = browser.page_source\r\n",
    "        soup = BeautifulSoup(sayfa_kaynağı, \"html.parser\")\r\n",
    "        tweetler = soup.find_all(\"div\",attrs={\"data-testid\":\"tweet\"})\r\n",
    "\r\n",
    "\r\n",
    "        for i in tweetler:\r\n",
    "            \r\n",
    "            try:\r\n",
    "                \r\n",
    "                yazı = i.find(\"div\", attrs={\"class\":\"css-901oao r-hkyrab r-1qd0xha r-a023e6 r-16dba41 r-ad9z0x r-bcqeeo r-bnwqim r-qvutc0\"}).text\r\n",
    "              \r\n",
    "              \r\n",
    "                writer.writerow([yazı])\r\n",
    "            \r\n",
    "            except:\r\n",
    "                print(\"**\")\r\n",
    "        a = a+1\r\n",
    "\r\n",
    "\r\n"
   ]
  },
  {
   "cell_type": "code",
   "execution_count": 22,
   "metadata": {},
   "outputs": [
    {
     "name": "stdout",
     "output_type": "stream",
     "text": [
      "scroll sayısını girin = 2\n"
     ]
    }
   ],
   "source": [
    "veri_cek()"
   ]
  },
  {
   "cell_type": "code",
   "execution_count": 23,
   "metadata": {},
   "outputs": [],
   "source": [
    "import pandas as pd"
   ]
  },
  {
   "cell_type": "code",
   "execution_count": 25,
   "metadata": {},
   "outputs": [],
   "source": [
    "ss = pd.read_csv(\"tweetler.csv\")"
   ]
  },
  {
   "cell_type": "code",
   "execution_count": 26,
   "metadata": {},
   "outputs": [],
   "source": [
    "ss.to_excel(\"tweetler_excel.xlsx\")"
   ]
  },
  {
   "cell_type": "code",
   "execution_count": null,
   "metadata": {},
   "outputs": [],
   "source": []
  },
  {
   "cell_type": "code",
   "execution_count": null,
   "metadata": {},
   "outputs": [],
   "source": []
  }
 ],
 "metadata": {
  "kernelspec": {
   "display_name": "Python 3",
   "language": "python",
   "name": "python3"
  },
  "language_info": {
   "codemirror_mode": {
    "name": "ipython",
    "version": 3
   },
   "file_extension": ".py",
   "mimetype": "text/x-python",
   "name": "python",
   "nbconvert_exporter": "python",
   "pygments_lexer": "ipython3",
   "version": "3.7.4"
  }
 },
 "nbformat": 4,
 "nbformat_minor": 2
}